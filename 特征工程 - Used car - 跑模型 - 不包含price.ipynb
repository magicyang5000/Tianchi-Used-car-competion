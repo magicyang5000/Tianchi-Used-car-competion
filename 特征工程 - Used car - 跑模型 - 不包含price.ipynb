{
 "cells": [
  {
   "cell_type": "markdown",
   "metadata": {},
   "source": [
    "# Datawhale 零基础入门数据挖掘-Baseline\n",
    "\n",
    "## Baseline-v1.0 版\n",
    "\n",
    "Tip:这是一个最初始baseline版本,抛砖引玉,为大家提供一个基本Baseline和一个竞赛流程的基本介绍，欢迎大家多多交流。\n",
    "\n",
    "**赛题：零基础入门数据挖掘 - 二手车交易价格预测**\n",
    "\n",
    "地址：https://tianchi.aliyun.com/competition/entrance/231784/introduction?spm=5176.12281957.1004.1.38b02448ausjSX"
   ]
  },
  {
   "cell_type": "markdown",
   "metadata": {},
   "source": [
    "### Step 1:导入函数工具箱"
   ]
  },
  {
   "cell_type": "code",
   "execution_count": 1,
   "metadata": {
    "ExecuteTime": {
     "end_time": "2020-04-05T09:00:52.001483Z",
     "start_time": "2020-04-05T09:00:44.875364Z"
    }
   },
   "outputs": [],
   "source": [
    "## 基础工具\n",
    "import numpy as np\n",
    "import pandas as pd\n",
    "import warnings\n",
    "import matplotlib\n",
    "import matplotlib.pyplot as plt\n",
    "import seaborn as sns\n",
    "from scipy.special import jn\n",
    "from IPython.display import display, clear_output\n",
    "import time\n",
    "from tqdm import tqdm\n",
    "from sklearn.preprocessing import PolynomialFeatures\n",
    "\n",
    "warnings.filterwarnings('ignore')\n",
    "%matplotlib inline\n",
    "\n",
    "## 模型预测的\n",
    "from sklearn import linear_model\n",
    "from sklearn import preprocessing\n",
    "from sklearn.svm import SVR\n",
    "from sklearn.ensemble import RandomForestRegressor,GradientBoostingRegressor\n",
    "from sklearn.linear_model import LinearRegression\n",
    "from sklearn.svm import SVC\n",
    "from sklearn.tree import DecisionTreeRegressor\n",
    "from sklearn.neural_network import MLPRegressor\n",
    "from xgboost.sklearn import XGBRegressor\n",
    "from lightgbm.sklearn import LGBMRegressor\n",
    "\n",
    "## 数据降维处理的\n",
    "from sklearn.decomposition import PCA,FastICA,FactorAnalysis,SparsePCA\n",
    "\n",
    "import lightgbm as lgb\n",
    "import xgboost as xgb\n",
    "\n",
    "## 参数搜索和评价的\n",
    "from sklearn.model_selection import GridSearchCV,cross_val_score,StratifiedKFold,train_test_split,KFold\n",
    "from sklearn.metrics import mean_squared_error, mean_absolute_error, make_scorer"
   ]
  },
  {
   "cell_type": "markdown",
   "metadata": {},
   "source": [
    "### Step 2:数据读取"
   ]
  },
  {
   "cell_type": "code",
   "execution_count": 2,
   "metadata": {
    "ExecuteTime": {
     "end_time": "2020-04-05T09:00:57.826217Z",
     "start_time": "2020-04-05T09:00:57.800282Z"
    }
   },
   "outputs": [],
   "source": [
    "# 优化类型，减少内存消耗\n",
    "def reduce_mem_usage(df):\n",
    "    \"\"\" iterate through all the columns of a dataframe and modify the data type\n",
    "        to reduce memory usage.        \n",
    "    \"\"\"\n",
    "    start_mem = df.memory_usage().sum() \n",
    "    print('Memory usage of dataframe is {:.2f} MB'.format(start_mem))\n",
    "    \n",
    "    for col in df.columns:\n",
    "        col_type = df[col].dtype\n",
    "        \n",
    "        if col_type != object:\n",
    "            c_min = df[col].min()\n",
    "            c_max = df[col].max()\n",
    "            if str(col_type)[:3] == 'int':\n",
    "                if c_min > np.iinfo(np.int8).min and c_max < np.iinfo(np.int8).max:\n",
    "                    df[col] = df[col].astype(np.int8)\n",
    "                elif c_min > np.iinfo(np.int16).min and c_max < np.iinfo(np.int16).max:\n",
    "                    df[col] = df[col].astype(np.int16)\n",
    "                elif c_min > np.iinfo(np.int32).min and c_max < np.iinfo(np.int32).max:\n",
    "                    df[col] = df[col].astype(np.int32)\n",
    "                elif c_min > np.iinfo(np.int64).min and c_max < np.iinfo(np.int64).max:\n",
    "                    df[col] = df[col].astype(np.int64)  \n",
    "            else:\n",
    "                if c_min > np.finfo(np.float16).min and c_max < np.finfo(np.float16).max:\n",
    "                    df[col] = df[col].astype(np.float16)\n",
    "                elif c_min > np.finfo(np.float32).min and c_max < np.finfo(np.float32).max:\n",
    "                    df[col] = df[col].astype(np.float32)\n",
    "                else:\n",
    "                    df[col] = df[col].astype(np.float64)\n",
    "        else:\n",
    "            df[col] = df[col].astype('category')\n",
    "\n",
    "    end_mem = df.memory_usage().sum() \n",
    "    print('Memory usage after optimization is: {:.2f} MB'.format(end_mem))\n",
    "    print('Decreased by {:.1f}%'.format(100 * (start_mem - end_mem) / start_mem))\n",
    "    return df"
   ]
  },
  {
   "cell_type": "code",
   "execution_count": 3,
   "metadata": {
    "ExecuteTime": {
     "end_time": "2020-04-05T09:01:00.475496Z",
     "start_time": "2020-04-05T09:00:59.100236Z"
    }
   },
   "outputs": [
    {
     "name": "stdout",
     "output_type": "stream",
     "text": [
      "Train data shape: (150000, 31)\n",
      "TestA data shape: (50000, 30)\n"
     ]
    }
   ],
   "source": [
    "## 通过Pandas对于数据进行读取 (pandas是一个很友好的数据读取函数库)\n",
    "Train_data = pd.read_csv('./data/used_car_train_20200313.csv', sep=' ')\n",
    "TestA_data = pd.read_csv('./data/used_car_testA_20200313.csv', sep=' ')\n",
    "\n",
    "## 输出数据的大小信息\n",
    "print('Train data shape:',Train_data.shape)\n",
    "print('TestA data shape:',TestA_data.shape)"
   ]
  },
  {
   "cell_type": "code",
   "execution_count": 4,
   "metadata": {
    "ExecuteTime": {
     "end_time": "2020-04-05T09:01:01.415024Z",
     "start_time": "2020-04-05T09:01:01.411531Z"
    }
   },
   "outputs": [],
   "source": [
    "#reduce_mem_usage(Train_data)\n",
    "#reduce_mem_usage(TestA_data)"
   ]
  },
  {
   "cell_type": "code",
   "execution_count": 5,
   "metadata": {
    "ExecuteTime": {
     "end_time": "2020-04-05T09:01:02.220820Z",
     "start_time": "2020-04-05T09:01:02.211869Z"
    }
   },
   "outputs": [
    {
     "data": {
      "text/plain": [
       "Index(['SaleID', 'name', 'regDate', 'model', 'brand', 'bodyType', 'fuelType',\n",
       "       'gearbox', 'power', 'kilometer', 'notRepairedDamage', 'regionCode',\n",
       "       'seller', 'offerType', 'creatDate', 'price', 'v_0', 'v_1', 'v_2', 'v_3',\n",
       "       'v_4', 'v_5', 'v_6', 'v_7', 'v_8', 'v_9', 'v_10', 'v_11', 'v_12',\n",
       "       'v_13', 'v_14'],\n",
       "      dtype='object')"
      ]
     },
     "execution_count": 5,
     "metadata": {},
     "output_type": "execute_result"
    }
   ],
   "source": [
    "## 通过 .columns 查看列名\n",
    "Train_data.columns"
   ]
  },
  {
   "cell_type": "markdown",
   "metadata": {},
   "source": [
    "### Step 3:特征与标签构建"
   ]
  },
  {
   "cell_type": "markdown",
   "metadata": {},
   "source": [
    "### Step 4: 特征工程"
   ]
  },
  {
   "cell_type": "code",
   "execution_count": 6,
   "metadata": {
    "ExecuteTime": {
     "end_time": "2020-04-05T09:01:04.181529Z",
     "start_time": "2020-04-05T09:01:04.037057Z"
    }
   },
   "outputs": [],
   "source": [
    "Train_data = Train_data.drop(Train_data[Train_data['v_14'] > 8].index)\n",
    "Train_data = Train_data.drop(Train_data[Train_data['price'] < 3].index)"
   ]
  },
  {
   "cell_type": "code",
   "execution_count": 7,
   "metadata": {
    "ExecuteTime": {
     "end_time": "2020-04-05T09:01:04.769026Z",
     "start_time": "2020-04-05T09:01:04.700051Z"
    }
   },
   "outputs": [],
   "source": [
    "def Feature_engineer(df):\n",
    "    '''1. 处理power'''\n",
    "    # 截断，截断处为2500。取log并归一化\n",
    "    df.loc[df['power'] > 2500,'power'] = 2500\n",
    "    min_max_scaler = preprocessing.MinMaxScaler()\n",
    "    df['power'] = np.log(df['power'] + 1) \n",
    "    df['power'\n",
    "      ] = ((df['power'] - np.min(df['power'])) / (np.max(df['power']) - np.min(df['power'])))\n",
    "    \n",
    "    '''2. 处理 createdate和regdate'''\n",
    "    ## 分别拆分 年 月 日 然后createDate-regDate得到使用时间\n",
    "    date_cols = ['regDate', 'creatDate']\n",
    "    def date_proc(x):\n",
    "        m = int(x[4:6])\n",
    "        if m == 0:\n",
    "            #m = 1\n",
    "            m = x[6:]\n",
    "        return x[:4] + '-' + str(m) + '-' + x[6:]\n",
    "    for f in tqdm(date_cols):\n",
    "        df[f] = pd.to_datetime(df[f].astype('str').apply(date_proc))\n",
    "        df[f + '_year'] = df[f].dt.year\n",
    "        df[f + '_month'] = df[f].dt.month\n",
    "        df[f + '_day'] = df[f].dt.day\n",
    "        df[f + '_dayofweek'] = df[f].dt.dayofweek\n",
    "    df['used_time_day'] = (pd.to_datetime(df['creatDate'], format='%Y%m%d', errors='coerce') - \n",
    "                                pd.to_datetime(df['regDate'], format='%Y%m%d', errors='coerce')).dt.days\n",
    "    df['used_time_month'] = round(df['used_time_day'] / 30)\n",
    "    df['used_time_year'] = round(df['used_time_day'] / 365)\n",
    "    df['creatDate'] = df['creatDate'].dt.year * 10000 + df['creatDate'].dt.month * 100 + df['creatDate'].dt.day\n",
    "    df['regDate'] = df['regDate'].dt.year * 10000 + df['regDate'].dt.month * 100 + df['regDate'].dt.day\n",
    "    \n",
    "    df['year_kilometer'] = df['kilometer'] / df['used_time_year']\n",
    "    \n",
    "    '''3. 处理fueltype'''\n",
    "    # 合并2-6为一类\n",
    "    df.loc[df['fuelType'] == 3,'fuelType'] = 2 \n",
    "    df.loc[df['fuelType'] == 4,'fuelType'] = 2 \n",
    "    df.loc[df['fuelType'] == 5,'fuelType'] = 2 \n",
    "    df.loc[df['fuelType'] == 6,'fuelType'] = 2 \n",
    "    \n",
    "    '''4. 处理seller，offerType，直接删除'''\n",
    "    df = df.drop(['seller'], axis=1)\n",
    "    df = df.drop(['offerType'], axis=1)\n",
    "    \n",
    "    \n",
    "    '''5. 处理notRepairedDamage'''\n",
    "    df['notRepairedDamage'].replace('-', np.nan , inplace=True)\n",
    "    df['notRepairedDamage'] = df['notRepairedDamage'].astype('float64')\n",
    "\n",
    "    '''6. 基于业务知识构建特征'''\n",
    "    # 年限和行驶里程折旧\n",
    "    def depreciation_year1(year):\n",
    "        if year <= 3:\n",
    "            return 1 - year * 0.15\n",
    "        elif year > 3 and  year <= 7:\n",
    "            return 0.55 - (year-3) * 0.1\n",
    "        elif year > 7 and  year <= 10:\n",
    "            return 0.25 - (year-7) * 0.05\n",
    "        else:\n",
    "            return 0\n",
    "    df['depreciation_year1'] = df['used_time_year'].apply(lambda x: depreciation_year1(x))\n",
    "\n",
    "    def depreciation_year2(year):\n",
    "        if year <= 3:\n",
    "            return 1 - 0.85 * year * 0.11\n",
    "        elif year > 3 and  year <= 7:\n",
    "            return 0.7195 - 0.85 * (year-3) * 0.1\n",
    "        elif year > 7 and  year <= 10:\n",
    "            return 0.3795 - 0.85 * (year-7) * 0.09\n",
    "        else:\n",
    "            return 0.15\n",
    "\n",
    "    df['depreciation_year2'] = df['used_time_year'].apply(lambda x: depreciation_year2(x))    \n",
    "    \n",
    "    def depreciation_kilometer(kilo):\n",
    "        if kilo <= 6:\n",
    "            return 1 - kilo * 5 / 90\n",
    "        elif kilo > 6 and  kilo <= 12:\n",
    "            return 0.66667 - (kilo-6) * 4 / 90\n",
    "        elif kilo > 12 and  kilo <= 18:\n",
    "            return 0.4 - (kilo-12) * 3 / 90\n",
    "        elif kilo > 18 and  kilo <= 24:\n",
    "            return 0.2 - (kilo-18) * 2 / 90\n",
    "        elif kilo > 24 and  kilo <= 30:\n",
    "            return 0.06667 - (kilo-24) * 1 / 90\n",
    "    df['depreciation_kilo'] = df['used_time_year'].apply(lambda x: depreciation_year1(x))\n",
    "    \n",
    "    '''7. 构建统计量'''\n",
    "    \n",
    "    # 分类变量的统计\n",
    "    def feat_uniqiue(df,feature):\n",
    "        Train_gb = df.groupby(feature)\n",
    "        all_info = {}\n",
    "        for kind, kind_data in Train_gb:\n",
    "            info = {}\n",
    "            info[feature + '_unique'] = len(kind_data[feature].unique())\n",
    "            info[feature + '_amount'] = len(kind_data)\n",
    "            all_info[kind] = info\n",
    "        brand_fe = pd.DataFrame(all_info).T.reset_index().rename(columns={'index': feature})\n",
    "        return df.merge(brand_fe, how='left', on=feature)    \n",
    "    \n",
    "    category_feature = ['name', 'model', 'regionCode','notRepairedDamage','brand','gearbox','fuelType','bodyType']\n",
    "    for i in category_feature:\n",
    "        df = feat_uniqiue(df,i) \n",
    "    \n",
    "    # 两个变量间交互构建 max median min sum std average等变量\n",
    "    def Group_Statistic(df,feature,Target):\n",
    "        Train_gb = df.groupby(feature)\n",
    "        all_info = {}\n",
    "        for kind, kind_data in Train_gb:\n",
    "            info = {}\n",
    "            kind_data = kind_data[kind_data[Target] > 0]\n",
    "            #info[feature + '_unique'] = len(kind_data[feature].unique())\n",
    "            #info[feature + '_amount'] = len(kind_data)\n",
    "            info[feature + '_' + Target + '_max'] = kind_data[Target].max()\n",
    "            info[feature + '_' + Target + '_median'] = kind_data[Target].median()\n",
    "            info[feature + '_' + Target + '_min'] = kind_data[Target].min()\n",
    "            info[feature + '_' + Target + '_sum'] = kind_data[Target].sum()\n",
    "            info[feature + '_' + Target + '_std'] = kind_data[Target].std()\n",
    "            info[feature + '_' + Target + '_average'] = round(kind_data[Target].sum() / (len(kind_data) + 1), 2)\n",
    "            all_info[kind] = info\n",
    "        brand_fe = pd.DataFrame(all_info).T.reset_index().rename(columns={'index': feature})\n",
    "        return df.merge(brand_fe, how='left', on=feature)\n",
    "    \n",
    "    # 和price有关的无法直接应用在test上，需要从train上挪过去。\n",
    "    df['model'] = df['model'].map(lambda x:str(x))\n",
    "    df['brand'] =df['brand'].map(lambda x:str(x))\n",
    "    df['Model_brand'] = df['model'].str.cat(df['brand'], sep = '_')\n",
    "    #df = Group_Statistic(df,'brand','price')\n",
    "    #df = Group_Statistic(df,'model','price')\n",
    "    #df = Group_Statistic(df,'kilometer','price')\n",
    "    #df = Group_Statistic(df,'regionCode','price')\n",
    "    #df = Group_Statistic(df,'used_time_year','price')\n",
    "    #df = Group_Statistic(df,'used_time_month','price')\n",
    "    #df = Group_Statistic(df,'used_time_day','price')\n",
    "    #df = Group_Statistic(df,'power','price')\n",
    "    #df = Group_Statistic(df,'fuelType','price')\n",
    "    #df = Group_Statistic(df,'notRepairedDamage','price')\n",
    "   # df = Group_Statistic(df,'bodyType','price')\n",
    "\n",
    "    df = Group_Statistic(df,'regionCode','used_time_day')\n",
    "    df = Group_Statistic(df,'regionCode','used_time_month')\n",
    "    df = Group_Statistic(df,'regionCode','used_time_year')\n",
    "    df = Group_Statistic(df,'regionCode','kilometer')\n",
    "    df = Group_Statistic(df,'regionCode','power')\n",
    "    df = Group_Statistic(df,'regionCode','v_3')\n",
    "    \n",
    "    df = Group_Statistic(df,'used_time_year','v_3')\n",
    "    df = Group_Statistic(df,'used_time_month','v_3')\n",
    "    df = Group_Statistic(df,'used_time_day','v_3')\n",
    "    \n",
    "    df = Group_Statistic(df,'power','used_time_day')\n",
    "    df = Group_Statistic(df,'power','used_time_month')\n",
    "    df = Group_Statistic(df,'power','used_time_year')\n",
    "    \n",
    "    df = Group_Statistic(df,'brand','used_time_day')\n",
    "    df = Group_Statistic(df,'brand','used_time_month')\n",
    "    df = Group_Statistic(df,'brand','used_time_year')\n",
    "    df = Group_Statistic(df,'model','used_time_day')\n",
    "    df = Group_Statistic(df,'model','used_time_month')\n",
    "    df = Group_Statistic(df,'model','used_time_year')\n",
    "    df = Group_Statistic(df,'brand','kilometer')\n",
    "    df = Group_Statistic(df,'brand','power')\n",
    "    df = Group_Statistic(df,'model','kilometer')\n",
    "    df = Group_Statistic(df,'model','power')\n",
    "    \n",
    "    #df = Group_Statistic(df,'Model_brand','price')\n",
    "    df = Group_Statistic(df,'Model_brand','used_time_day')\n",
    "    df = Group_Statistic(df,'Model_brand','used_time_month')\n",
    "    df = Group_Statistic(df,'Model_brand','used_time_year')\n",
    "    df = Group_Statistic(df,'Model_brand','power')\n",
    "    df = Group_Statistic(df,'Model_brand','kilometer')\n",
    "    # df = df.drop(['Model_brand'], axis=1)\n",
    "    df['Model_brand'] = df['Model_brand'].astype('float64')\n",
    "    df['model'] = df['model'].astype('float64')\n",
    "    df['brand'] = df['brand'].astype('float64')\n",
    "\n",
    "    return df\n",
    "   "
   ]
  },
  {
   "cell_type": "code",
   "execution_count": 8,
   "metadata": {
    "ExecuteTime": {
     "end_time": "2020-04-05T09:01:06.978224Z",
     "start_time": "2020-04-05T09:01:06.137736Z"
    }
   },
   "outputs": [
    {
     "name": "stdout",
     "output_type": "stream",
     "text": [
      "Memory usage of dataframe is 51199744.00 MB\n",
      "Memory usage after optimization is: 15200028.00 MB\n",
      "Decreased by 70.3%\n"
     ]
    },
    {
     "data": {
      "text/html": [
       "<div>\n",
       "<style scoped>\n",
       "    .dataframe tbody tr th:only-of-type {\n",
       "        vertical-align: middle;\n",
       "    }\n",
       "\n",
       "    .dataframe tbody tr th {\n",
       "        vertical-align: top;\n",
       "    }\n",
       "\n",
       "    .dataframe thead th {\n",
       "        text-align: right;\n",
       "    }\n",
       "</style>\n",
       "<table border=\"1\" class=\"dataframe\">\n",
       "  <thead>\n",
       "    <tr style=\"text-align: right;\">\n",
       "      <th></th>\n",
       "      <th>SaleID</th>\n",
       "      <th>name</th>\n",
       "      <th>regDate</th>\n",
       "      <th>model</th>\n",
       "      <th>brand</th>\n",
       "      <th>bodyType</th>\n",
       "      <th>fuelType</th>\n",
       "      <th>gearbox</th>\n",
       "      <th>power</th>\n",
       "      <th>kilometer</th>\n",
       "      <th>...</th>\n",
       "      <th>v_5</th>\n",
       "      <th>v_6</th>\n",
       "      <th>v_7</th>\n",
       "      <th>v_8</th>\n",
       "      <th>v_9</th>\n",
       "      <th>v_10</th>\n",
       "      <th>v_11</th>\n",
       "      <th>v_12</th>\n",
       "      <th>v_13</th>\n",
       "      <th>v_14</th>\n",
       "    </tr>\n",
       "    <tr>\n",
       "      <th>SaleID</th>\n",
       "      <th></th>\n",
       "      <th></th>\n",
       "      <th></th>\n",
       "      <th></th>\n",
       "      <th></th>\n",
       "      <th></th>\n",
       "      <th></th>\n",
       "      <th></th>\n",
       "      <th></th>\n",
       "      <th></th>\n",
       "      <th></th>\n",
       "      <th></th>\n",
       "      <th></th>\n",
       "      <th></th>\n",
       "      <th></th>\n",
       "      <th></th>\n",
       "      <th></th>\n",
       "      <th></th>\n",
       "      <th></th>\n",
       "      <th></th>\n",
       "      <th></th>\n",
       "    </tr>\n",
       "  </thead>\n",
       "  <tbody>\n",
       "    <tr>\n",
       "      <td>0</td>\n",
       "      <td>0</td>\n",
       "      <td>736</td>\n",
       "      <td>20040402</td>\n",
       "      <td>30.0</td>\n",
       "      <td>6</td>\n",
       "      <td>1.0</td>\n",
       "      <td>0.0</td>\n",
       "      <td>0.0</td>\n",
       "      <td>60</td>\n",
       "      <td>12.5</td>\n",
       "      <td>...</td>\n",
       "      <td>0.235718</td>\n",
       "      <td>0.101990</td>\n",
       "      <td>0.129517</td>\n",
       "      <td>0.022812</td>\n",
       "      <td>0.097473</td>\n",
       "      <td>-2.880859</td>\n",
       "      <td>2.804688</td>\n",
       "      <td>-2.419922</td>\n",
       "      <td>0.795410</td>\n",
       "      <td>0.914551</td>\n",
       "    </tr>\n",
       "    <tr>\n",
       "      <td>1</td>\n",
       "      <td>1</td>\n",
       "      <td>2262</td>\n",
       "      <td>20030301</td>\n",
       "      <td>40.0</td>\n",
       "      <td>1</td>\n",
       "      <td>2.0</td>\n",
       "      <td>0.0</td>\n",
       "      <td>0.0</td>\n",
       "      <td>0</td>\n",
       "      <td>15.0</td>\n",
       "      <td>...</td>\n",
       "      <td>0.264893</td>\n",
       "      <td>0.121033</td>\n",
       "      <td>0.135742</td>\n",
       "      <td>0.026596</td>\n",
       "      <td>0.020584</td>\n",
       "      <td>-4.902344</td>\n",
       "      <td>2.095703</td>\n",
       "      <td>-1.030273</td>\n",
       "      <td>-1.722656</td>\n",
       "      <td>0.245483</td>\n",
       "    </tr>\n",
       "    <tr>\n",
       "      <td>2</td>\n",
       "      <td>2</td>\n",
       "      <td>14874</td>\n",
       "      <td>20040403</td>\n",
       "      <td>115.0</td>\n",
       "      <td>15</td>\n",
       "      <td>1.0</td>\n",
       "      <td>0.0</td>\n",
       "      <td>0.0</td>\n",
       "      <td>163</td>\n",
       "      <td>12.5</td>\n",
       "      <td>...</td>\n",
       "      <td>0.251465</td>\n",
       "      <td>0.114929</td>\n",
       "      <td>0.165161</td>\n",
       "      <td>0.062164</td>\n",
       "      <td>0.027069</td>\n",
       "      <td>-4.847656</td>\n",
       "      <td>1.803711</td>\n",
       "      <td>1.565430</td>\n",
       "      <td>-0.832520</td>\n",
       "      <td>-0.229980</td>\n",
       "    </tr>\n",
       "    <tr>\n",
       "      <td>3</td>\n",
       "      <td>3</td>\n",
       "      <td>71865</td>\n",
       "      <td>19960908</td>\n",
       "      <td>109.0</td>\n",
       "      <td>10</td>\n",
       "      <td>0.0</td>\n",
       "      <td>0.0</td>\n",
       "      <td>1.0</td>\n",
       "      <td>193</td>\n",
       "      <td>15.0</td>\n",
       "      <td>...</td>\n",
       "      <td>0.274414</td>\n",
       "      <td>0.110291</td>\n",
       "      <td>0.121948</td>\n",
       "      <td>0.033386</td>\n",
       "      <td>0.000000</td>\n",
       "      <td>-4.507812</td>\n",
       "      <td>1.286133</td>\n",
       "      <td>-0.501953</td>\n",
       "      <td>-2.437500</td>\n",
       "      <td>-0.478760</td>\n",
       "    </tr>\n",
       "    <tr>\n",
       "      <td>4</td>\n",
       "      <td>4</td>\n",
       "      <td>111080</td>\n",
       "      <td>20120103</td>\n",
       "      <td>110.0</td>\n",
       "      <td>5</td>\n",
       "      <td>1.0</td>\n",
       "      <td>0.0</td>\n",
       "      <td>0.0</td>\n",
       "      <td>68</td>\n",
       "      <td>5.0</td>\n",
       "      <td>...</td>\n",
       "      <td>0.228027</td>\n",
       "      <td>0.073181</td>\n",
       "      <td>0.091858</td>\n",
       "      <td>0.078796</td>\n",
       "      <td>0.121521</td>\n",
       "      <td>-1.896484</td>\n",
       "      <td>0.910645</td>\n",
       "      <td>0.931152</td>\n",
       "      <td>2.833984</td>\n",
       "      <td>1.923828</td>\n",
       "    </tr>\n",
       "    <tr>\n",
       "      <td>...</td>\n",
       "      <td>...</td>\n",
       "      <td>...</td>\n",
       "      <td>...</td>\n",
       "      <td>...</td>\n",
       "      <td>...</td>\n",
       "      <td>...</td>\n",
       "      <td>...</td>\n",
       "      <td>...</td>\n",
       "      <td>...</td>\n",
       "      <td>...</td>\n",
       "      <td>...</td>\n",
       "      <td>...</td>\n",
       "      <td>...</td>\n",
       "      <td>...</td>\n",
       "      <td>...</td>\n",
       "      <td>...</td>\n",
       "      <td>...</td>\n",
       "      <td>...</td>\n",
       "      <td>...</td>\n",
       "      <td>...</td>\n",
       "      <td>...</td>\n",
       "    </tr>\n",
       "    <tr>\n",
       "      <td>199995</td>\n",
       "      <td>199995</td>\n",
       "      <td>20903</td>\n",
       "      <td>19960503</td>\n",
       "      <td>4.0</td>\n",
       "      <td>4</td>\n",
       "      <td>4.0</td>\n",
       "      <td>0.0</td>\n",
       "      <td>0.0</td>\n",
       "      <td>116</td>\n",
       "      <td>15.0</td>\n",
       "      <td>...</td>\n",
       "      <td>0.284668</td>\n",
       "      <td>0.130005</td>\n",
       "      <td>0.049835</td>\n",
       "      <td>0.028809</td>\n",
       "      <td>0.004616</td>\n",
       "      <td>-5.976562</td>\n",
       "      <td>1.302734</td>\n",
       "      <td>-1.207031</td>\n",
       "      <td>-1.981445</td>\n",
       "      <td>-0.357666</td>\n",
       "    </tr>\n",
       "    <tr>\n",
       "      <td>199996</td>\n",
       "      <td>199996</td>\n",
       "      <td>708</td>\n",
       "      <td>19991011</td>\n",
       "      <td>0.0</td>\n",
       "      <td>0</td>\n",
       "      <td>0.0</td>\n",
       "      <td>0.0</td>\n",
       "      <td>0.0</td>\n",
       "      <td>75</td>\n",
       "      <td>15.0</td>\n",
       "      <td>...</td>\n",
       "      <td>0.268066</td>\n",
       "      <td>0.108093</td>\n",
       "      <td>0.066040</td>\n",
       "      <td>0.025467</td>\n",
       "      <td>0.025970</td>\n",
       "      <td>-3.914062</td>\n",
       "      <td>1.759766</td>\n",
       "      <td>-2.076172</td>\n",
       "      <td>-1.155273</td>\n",
       "      <td>0.169067</td>\n",
       "    </tr>\n",
       "    <tr>\n",
       "      <td>199997</td>\n",
       "      <td>199997</td>\n",
       "      <td>6693</td>\n",
       "      <td>20040412</td>\n",
       "      <td>49.0</td>\n",
       "      <td>1</td>\n",
       "      <td>0.0</td>\n",
       "      <td>1.0</td>\n",
       "      <td>1.0</td>\n",
       "      <td>224</td>\n",
       "      <td>15.0</td>\n",
       "      <td>...</td>\n",
       "      <td>0.269531</td>\n",
       "      <td>0.105713</td>\n",
       "      <td>0.117676</td>\n",
       "      <td>0.057465</td>\n",
       "      <td>0.015671</td>\n",
       "      <td>-4.640625</td>\n",
       "      <td>0.654785</td>\n",
       "      <td>1.137695</td>\n",
       "      <td>-1.390625</td>\n",
       "      <td>0.254395</td>\n",
       "    </tr>\n",
       "    <tr>\n",
       "      <td>199998</td>\n",
       "      <td>199998</td>\n",
       "      <td>96900</td>\n",
       "      <td>20020008</td>\n",
       "      <td>27.0</td>\n",
       "      <td>1</td>\n",
       "      <td>0.0</td>\n",
       "      <td>0.0</td>\n",
       "      <td>1.0</td>\n",
       "      <td>334</td>\n",
       "      <td>15.0</td>\n",
       "      <td>...</td>\n",
       "      <td>0.261230</td>\n",
       "      <td>0.000490</td>\n",
       "      <td>0.137329</td>\n",
       "      <td>0.086243</td>\n",
       "      <td>0.051392</td>\n",
       "      <td>1.833984</td>\n",
       "      <td>-2.828125</td>\n",
       "      <td>2.464844</td>\n",
       "      <td>-0.911621</td>\n",
       "      <td>-2.056641</td>\n",
       "    </tr>\n",
       "    <tr>\n",
       "      <td>199999</td>\n",
       "      <td>199999</td>\n",
       "      <td>193384</td>\n",
       "      <td>20041109</td>\n",
       "      <td>166.0</td>\n",
       "      <td>6</td>\n",
       "      <td>1.0</td>\n",
       "      <td>NaN</td>\n",
       "      <td>1.0</td>\n",
       "      <td>68</td>\n",
       "      <td>9.0</td>\n",
       "      <td>...</td>\n",
       "      <td>0.228760</td>\n",
       "      <td>0.000300</td>\n",
       "      <td>0.103516</td>\n",
       "      <td>0.080627</td>\n",
       "      <td>0.124268</td>\n",
       "      <td>2.914062</td>\n",
       "      <td>-1.135742</td>\n",
       "      <td>0.547852</td>\n",
       "      <td>2.093750</td>\n",
       "      <td>-1.551758</td>\n",
       "    </tr>\n",
       "  </tbody>\n",
       "</table>\n",
       "<p>199999 rows × 31 columns</p>\n",
       "</div>"
      ],
      "text/plain": [
       "        SaleID    name   regDate  model  brand  bodyType  fuelType  gearbox  \\\n",
       "SaleID                                                                        \n",
       "0            0     736  20040402   30.0      6       1.0       0.0      0.0   \n",
       "1            1    2262  20030301   40.0      1       2.0       0.0      0.0   \n",
       "2            2   14874  20040403  115.0     15       1.0       0.0      0.0   \n",
       "3            3   71865  19960908  109.0     10       0.0       0.0      1.0   \n",
       "4            4  111080  20120103  110.0      5       1.0       0.0      0.0   \n",
       "...        ...     ...       ...    ...    ...       ...       ...      ...   \n",
       "199995  199995   20903  19960503    4.0      4       4.0       0.0      0.0   \n",
       "199996  199996     708  19991011    0.0      0       0.0       0.0      0.0   \n",
       "199997  199997    6693  20040412   49.0      1       0.0       1.0      1.0   \n",
       "199998  199998   96900  20020008   27.0      1       0.0       0.0      1.0   \n",
       "199999  199999  193384  20041109  166.0      6       1.0       NaN      1.0   \n",
       "\n",
       "        power  kilometer  ...       v_5       v_6       v_7       v_8  \\\n",
       "SaleID                    ...                                           \n",
       "0          60       12.5  ...  0.235718  0.101990  0.129517  0.022812   \n",
       "1           0       15.0  ...  0.264893  0.121033  0.135742  0.026596   \n",
       "2         163       12.5  ...  0.251465  0.114929  0.165161  0.062164   \n",
       "3         193       15.0  ...  0.274414  0.110291  0.121948  0.033386   \n",
       "4          68        5.0  ...  0.228027  0.073181  0.091858  0.078796   \n",
       "...       ...        ...  ...       ...       ...       ...       ...   \n",
       "199995    116       15.0  ...  0.284668  0.130005  0.049835  0.028809   \n",
       "199996     75       15.0  ...  0.268066  0.108093  0.066040  0.025467   \n",
       "199997    224       15.0  ...  0.269531  0.105713  0.117676  0.057465   \n",
       "199998    334       15.0  ...  0.261230  0.000490  0.137329  0.086243   \n",
       "199999     68        9.0  ...  0.228760  0.000300  0.103516  0.080627   \n",
       "\n",
       "             v_9      v_10      v_11      v_12      v_13      v_14  \n",
       "SaleID                                                              \n",
       "0       0.097473 -2.880859  2.804688 -2.419922  0.795410  0.914551  \n",
       "1       0.020584 -4.902344  2.095703 -1.030273 -1.722656  0.245483  \n",
       "2       0.027069 -4.847656  1.803711  1.565430 -0.832520 -0.229980  \n",
       "3       0.000000 -4.507812  1.286133 -0.501953 -2.437500 -0.478760  \n",
       "4       0.121521 -1.896484  0.910645  0.931152  2.833984  1.923828  \n",
       "...          ...       ...       ...       ...       ...       ...  \n",
       "199995  0.004616 -5.976562  1.302734 -1.207031 -1.981445 -0.357666  \n",
       "199996  0.025970 -3.914062  1.759766 -2.076172 -1.155273  0.169067  \n",
       "199997  0.015671 -4.640625  0.654785  1.137695 -1.390625  0.254395  \n",
       "199998  0.051392  1.833984 -2.828125  2.464844 -0.911621 -2.056641  \n",
       "199999  0.124268  2.914062 -1.135742  0.547852  2.093750 -1.551758  \n",
       "\n",
       "[199999 rows x 31 columns]"
      ]
     },
     "execution_count": 8,
     "metadata": {},
     "output_type": "execute_result"
    }
   ],
   "source": [
    "# 合并数据\n",
    "Train_data.index = Train_data['SaleID']\n",
    "TestA_data.index = TestA_data['SaleID']\n",
    "Data_all = pd.concat([Train_data, TestA_data], sort=False).reset_index(drop=True)\n",
    "Data_all.index = Data_all['SaleID']\n",
    "reduce_mem_usage(Data_all)"
   ]
  },
  {
   "cell_type": "code",
   "execution_count": 9,
   "metadata": {
    "ExecuteTime": {
     "end_time": "2020-04-05T09:06:06.327693Z",
     "start_time": "2020-04-05T09:01:09.162183Z"
    }
   },
   "outputs": [
    {
     "name": "stderr",
     "output_type": "stream",
     "text": [
      "100%|████████████████████████████████████████████████████████████████████████████████████| 2/2 [00:01<00:00,  1.81it/s]\n"
     ]
    }
   ],
   "source": [
    "Data_all = Feature_engineer(Data_all)\n",
    "Data_all = Data_all.drop(['Model_brand'], axis=1)"
   ]
  },
  {
   "cell_type": "code",
   "execution_count": 10,
   "metadata": {
    "ExecuteTime": {
     "end_time": "2020-04-05T09:06:06.371453Z",
     "start_time": "2020-04-05T09:06:06.333694Z"
    }
   },
   "outputs": [
    {
     "name": "stdout",
     "output_type": "stream",
     "text": [
      "<class 'pandas.core.frame.DataFrame'>\n",
      "Int64Index: 199999 entries, 0 to 199998\n",
      "Columns: 222 entries, SaleID to Model_brand_kilometer_average\n",
      "dtypes: float16(19), float32(1), float64(180), int16(1), int32(2), int64(19)\n",
      "memory usage: 315.1 MB\n"
     ]
    }
   ],
   "source": [
    "Data_all.info()"
   ]
  },
  {
   "cell_type": "code",
   "execution_count": 11,
   "metadata": {
    "ExecuteTime": {
     "end_time": "2020-04-05T09:06:07.483953Z",
     "start_time": "2020-04-05T09:06:06.375564Z"
    }
   },
   "outputs": [],
   "source": [
    " '''拆分数据集，并对price 做log处理'''\n",
    "feature_cols = [col for col in Data_all.columns if col not in ['SaleID','price']]\n",
    "\n",
    "X_data = Data_all[feature_cols][Data_all['SaleID'] <= 149999]\n",
    "Y_data = Data_all['price'][Data_all['SaleID'] <= 149999]\n",
    "Y_data = np.log(Y_data + 1)\n",
    "\n",
    "X_test = Data_all[feature_cols][Data_all['SaleID'] > 149999]"
   ]
  },
  {
   "cell_type": "markdown",
   "metadata": {},
   "source": [
    "### Step 5:模型训练与预测"
   ]
  },
  {
   "cell_type": "markdown",
   "metadata": {},
   "source": [
    "#### 1) 利用xgb进行五折交叉验证查看模型的参数效果"
   ]
  },
  {
   "cell_type": "code",
   "execution_count": null,
   "metadata": {
    "ExecuteTime": {
     "start_time": "2020-04-05T09:01:16.008Z"
    }
   },
   "outputs": [
    {
     "name": "stdout",
     "output_type": "stream",
     "text": [
      "[17:06:08] WARNING: src/objective/regression_obj.cu:152: reg:linear is now deprecated in favor of reg:squarederror.\n"
     ]
    }
   ],
   "source": [
    "## xgb-Model\n",
    "\n",
    "xgr = xgb.XGBRegressor(n_estimators=150, learning_rate=0.1, gamma=0, subsample=0.8,\\\n",
    "        colsample_bytree=0.9, max_depth=7) #,objective ='reg:squarederror'\n",
    "\n",
    "scores_train = []\n",
    "scores = []\n",
    "\n",
    "## 5折交叉验证方式\n",
    "sk=KFold(n_splits=5,shuffle=True,random_state=0)\n",
    "for train_ind,val_ind in sk.split(X_data,Y_data):\n",
    "    \n",
    "    train_x=X_data.iloc[train_ind].values\n",
    "    train_y=Y_data.iloc[train_ind]\n",
    "    val_x=X_data.iloc[val_ind].values\n",
    "    val_y=Y_data.iloc[val_ind]\n",
    "    \n",
    "    xgr.fit(train_x,train_y)\n",
    "    pred_train_xgb=xgr.predict(train_x)\n",
    "    pred_xgb=xgr.predict(val_x)\n",
    "    \n",
    "    score_train = mean_absolute_error(train_y,pred_train_xgb)\n",
    "    scores_train.append(score_train)\n",
    "    score = mean_absolute_error(val_y,pred_xgb)\n",
    "    scores.append(score)\n",
    "\n",
    "print('Train mae:',np.mean(score_train))\n",
    "print('Val mae',np.mean(scores))"
   ]
  },
  {
   "cell_type": "code",
   "execution_count": null,
   "metadata": {
    "ExecuteTime": {
     "start_time": "2020-04-05T09:01:16.870Z"
    }
   },
   "outputs": [],
   "source": [
    "train_y_Origin = np.exp(train_y) - 1\n",
    "pred_train_xgb_Origin = np.exp(pred_train_xgb) - 1\n",
    "Train_Score_MAE = mean_absolute_error(train_y_Origin,pred_train_xgb_Origin)\n",
    "print(Train_Score_MAE)"
   ]
  },
  {
   "cell_type": "code",
   "execution_count": null,
   "metadata": {
    "ExecuteTime": {
     "start_time": "2020-04-05T09:01:17.257Z"
    }
   },
   "outputs": [],
   "source": [
    "val_y_Origin = np.exp(val_y) - 1\n",
    "pred_xgb_Origin = np.exp(pred_xgb) - 1\n",
    "val_Score_MAE = mean_absolute_error(val_y_Origin,pred_xgb_Origin)\n",
    "print(val_Score_MAE)"
   ]
  },
  {
   "cell_type": "code",
   "execution_count": null,
   "metadata": {
    "ExecuteTime": {
     "start_time": "2020-04-05T09:01:17.893Z"
    }
   },
   "outputs": [],
   "source": [
    "# 特征重要度排名\n",
    "feature_cols = X_data.columns\n",
    "feat_imp_df = pd.DataFrame({'feat': feature_cols, 'imp': 0})\n",
    "feat_imp_df['imp'] = xgr.feature_importances_\n",
    "\n",
    "plt.figure(figsize=(20, 100))\n",
    "feat_imp_df = feat_imp_df.sort_values('imp').reset_index(drop=False)\n",
    "sns.barplot(x='imp', y='feat', data=feat_imp_df)"
   ]
  },
  {
   "cell_type": "code",
   "execution_count": null,
   "metadata": {
    "ExecuteTime": {
     "start_time": "2020-04-05T09:01:18.593Z"
    }
   },
   "outputs": [],
   "source": [
    "## 定义了一个统计函数，方便后续信息统计\n",
    "def Sta_inf(data):\n",
    "    print('_min',np.min(data))\n",
    "    print('_max:',np.max(data))\n",
    "    print('_mean',np.mean(data))\n",
    "    print('_ptp',np.ptp(data))\n",
    "    print('_std',np.std(data))\n",
    "    print('_var',np.var(data))"
   ]
  },
  {
   "cell_type": "code",
   "execution_count": null,
   "metadata": {
    "ExecuteTime": {
     "start_time": "2020-04-05T09:01:20.095Z"
    }
   },
   "outputs": [],
   "source": [
    "# 建模\n",
    "x_train,x_val,y_train,y_val = train_test_split(X_data,Y_data,test_size=0.3)\n",
    "\n",
    "def build_model_xgb(x_train,y_train):\n",
    "    model = xgb.XGBRegressor(n_estimators=150, learning_rate=0.1, gamma=0, subsample=0.8,\\\n",
    "        colsample_bytree=0.9, max_depth=7) #, objective ='reg:squarederror'\n",
    "    model.fit(x_train, y_train)\n",
    "    return model\n",
    "\n",
    "print('Train xgb...')\n",
    "model_xgb = build_model_xgb(x_train,y_train)\n",
    "val_xgb = model_xgb.predict(x_val)\n",
    "MAE_xgb = mean_absolute_error(y_val,val_xgb)\n",
    "print('MAE of val with xgb:',MAE_xgb)"
   ]
  },
  {
   "cell_type": "code",
   "execution_count": null,
   "metadata": {
    "ExecuteTime": {
     "start_time": "2020-04-05T09:01:22.175Z"
    }
   },
   "outputs": [],
   "source": [
    "# 预测\n",
    "print('Predict xgb...')\n",
    "model_xgb_pre = build_model_xgb(X_data,Y_data)\n",
    "subA_xgb = model_xgb_pre.predict(X_test)\n",
    "subA_xgb = np.exp(subA_xgb) - 1\n",
    "print('Sta of Predict xgb:')\n",
    "Sta_inf(subA_xgb)"
   ]
  },
  {
   "cell_type": "code",
   "execution_count": null,
   "metadata": {
    "ExecuteTime": {
     "end_time": "2020-04-05T08:21:01.307718Z",
     "start_time": "2020-04-05T08:21:01.257670Z"
    }
   },
   "outputs": [],
   "source": [
    "# 输出结果\n",
    "sub = pd.DataFrame()\n",
    "sub['SaleID'] = TestA_data.SaleID\n",
    "sub['price'] = subA_xgb\n",
    "sub.to_csv('./sub_Weighted.csv',index=False)"
   ]
  },
  {
   "cell_type": "code",
   "execution_count": null,
   "metadata": {},
   "outputs": [],
   "source": []
  }
 ],
 "metadata": {
  "kernelspec": {
   "display_name": "Python 3",
   "language": "python",
   "name": "python3"
  },
  "language_info": {
   "codemirror_mode": {
    "name": "ipython",
    "version": 3
   },
   "file_extension": ".py",
   "mimetype": "text/x-python",
   "name": "python",
   "nbconvert_exporter": "python",
   "pygments_lexer": "ipython3",
   "version": "3.7.3"
  },
  "toc": {
   "base_numbering": 1,
   "nav_menu": {},
   "number_sections": false,
   "sideBar": true,
   "skip_h1_title": false,
   "title_cell": "Table of Contents",
   "title_sidebar": "Contents",
   "toc_cell": false,
   "toc_position": {
    "height": "calc(100% - 180px)",
    "left": "10px",
    "top": "150px",
    "width": "307.2px"
   },
   "toc_section_display": true,
   "toc_window_display": true
  }
 },
 "nbformat": 4,
 "nbformat_minor": 2
}
